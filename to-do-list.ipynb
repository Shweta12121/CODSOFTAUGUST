{
 "cells": [
  {
   "cell_type": "code",
   "execution_count": 1,
   "id": "5757aaf5",
   "metadata": {},
   "outputs": [],
   "source": [
    "import tkinter as tk\n",
    "from tkinter import messagebox\n",
    "\n",
    "def add_task():\n",
    "    task = entry_task.get()\n",
    "    if task:\n",
    "        listbox_tasks.insert(tk.END, task)\n",
    "        entry_task.delete(0, tk.END)\n",
    "    else:\n",
    "        messagebox.showwarning(\"Warning\", \"Please enter a task.\")\n",
    "\n",
    "def remove_task():\n",
    "    selected_task_index = listbox_tasks.curselection()\n",
    "    if selected_task_index:\n",
    "        listbox_tasks.delete(selected_task_index)\n",
    "    else:\n",
    "        messagebox.showwarning(\"Warning\", \"Please select a task to remove.\")\n",
    "\n",
    "root = tk.Tk()\n",
    "root.title(\"To-Do List App\")\n",
    "\n",
    "frame = tk.Frame(root)\n",
    "frame.pack(padx=10, pady=10)\n",
    "\n",
    "label_task = tk.Label(frame, text=\"Task:\")\n",
    "label_task.grid(row=0, column=0, padx=(0, 10))\n",
    "\n",
    "entry_task = tk.Entry(frame, width=30)\n",
    "entry_task.grid(row=0, column=1)\n",
    "\n",
    "add_button = tk.Button(frame, text=\"Add Task\", command=add_task)\n",
    "add_button.grid(row=0, column=2, padx=(10, 0))\n",
    "\n",
    "remove_button = tk.Button(frame, text=\"Remove Task\", command=remove_task)\n",
    "remove_button.grid(row=1, column=2, pady=(10, 0))\n",
    "\n",
    "listbox_tasks = tk.Listbox(frame, selectmode=tk.SINGLE, width=40)\n",
    "listbox_tasks.grid(row=1, column=0, padx=(0, 10), pady=(10, 0), columnspan=2)\n",
    "\n",
    "root.mainloop()\n"
   ]
  },
  {
   "cell_type": "code",
   "execution_count": null,
   "id": "97b2ea7b",
   "metadata": {},
   "outputs": [],
   "source": []
  }
 ],
 "metadata": {
  "kernelspec": {
   "display_name": "Python 3 (ipykernel)",
   "language": "python",
   "name": "python3"
  },
  "language_info": {
   "codemirror_mode": {
    "name": "ipython",
    "version": 3
   },
   "file_extension": ".py",
   "mimetype": "text/x-python",
   "name": "python",
   "nbconvert_exporter": "python",
   "pygments_lexer": "ipython3",
   "version": "3.9.13"
  }
 },
 "nbformat": 4,
 "nbformat_minor": 5
}
