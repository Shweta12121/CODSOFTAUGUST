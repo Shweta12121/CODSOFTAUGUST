{
 "cells": [
  {
   "cell_type": "code",
   "execution_count": null,
   "id": "5ec623e9",
   "metadata": {},
   "outputs": [
    {
     "name": "stdout",
     "output_type": "stream",
     "text": [
      "Password Generator\n"
     ]
    }
   ],
   "source": [
    "import random\n",
    "import string\n",
    "\n",
    "def generate_password(length, complexity):\n",
    "    if complexity == \"easy\":\n",
    "        characters = string.ascii_letters\n",
    "    elif complexity == \"medium\":\n",
    "        characters = string.ascii_letters + string.digits\n",
    "    elif complexity == \"strong\":\n",
    "        characters = string.ascii_letters + string.digits + string.punctuation\n",
    "    else:\n",
    "        print(\"Invalid complexity choice.\")\n",
    "        return None\n",
    "\n",
    "    if length < 1:\n",
    "        print(\"Password length should be at least 1.\")\n",
    "        return None\n",
    "\n",
    "    password = ''.join(random.choice(characters) for _ in range(length))\n",
    "    return password\n",
    "\n",
    "def main():\n",
    "    print(\"Password Generator\")\n",
    "\n",
    "    while True:\n",
    "        length = int(input(\"Enter the length of the password: \"))\n",
    "        complexity = input(\"Enter complexity (easy/medium/strong): \").lower()\n",
    "\n",
    "        password = generate_password(length, complexity)\n",
    "        if password:\n",
    "            print(\"Generated Password:\", password)\n",
    "\n",
    "        another_generation = input(\"Do you want to generate another password? (yes/no): \")\n",
    "        if another_generation.lower() != 'yes':\n",
    "            break\n",
    "\n",
    "if __name__ == \"__main__\":\n",
    "    main()\n"
   ]
  },
  {
   "cell_type": "code",
   "execution_count": null,
   "id": "5e8fbb00",
   "metadata": {},
   "outputs": [],
   "source": []
  }
 ],
 "metadata": {
  "kernelspec": {
   "display_name": "Python 3 (ipykernel)",
   "language": "python",
   "name": "python3"
  },
  "language_info": {
   "codemirror_mode": {
    "name": "ipython",
    "version": 3
   },
   "file_extension": ".py",
   "mimetype": "text/x-python",
   "name": "python",
   "nbconvert_exporter": "python",
   "pygments_lexer": "ipython3",
   "version": "3.9.13"
  }
 },
 "nbformat": 4,
 "nbformat_minor": 5
}
